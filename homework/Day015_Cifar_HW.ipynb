{
 "cells": [
  {
   "cell_type": "markdown",
   "metadata": {},
   "source": [
    "## 『本次練習內容』\n",
    "#### 運用這幾天所學觀念搭建一個CNN分類器"
   ]
  },
  {
   "cell_type": "markdown",
   "metadata": {},
   "source": [
    "## 『本次練習目的』\n",
    "  #### 熟悉CNN分類器搭建步驟與原理\n",
    "  #### 學員們可以嘗試不同搭法，如使用不同的Maxpooling層，用GlobalAveragePooling取代Flatten等等"
   ]
  },
  {
   "cell_type": "code",
   "execution_count": 1,
   "metadata": {},
   "outputs": [
    {
     "name": "stderr",
     "output_type": "stream",
     "text": [
      "Using TensorFlow backend.\n"
     ]
    }
   ],
   "source": [
    "from keras.models import Sequential\n",
    "from keras.layers import Convolution2D\n",
    "from keras.layers import MaxPooling2D\n",
    "from keras.layers import Flatten\n",
    "from keras.layers import Dense\n",
    "from keras.layers import Dropout\n",
    "from keras.layers import BatchNormalization\n",
    "from keras.datasets import cifar10\n",
    "import numpy as np\n",
    "import tensorflow as tf\n",
    "from sklearn.preprocessing import OneHotEncoder\n"
   ]
  },
  {
   "cell_type": "code",
   "execution_count": 2,
   "metadata": {},
   "outputs": [
    {
     "name": "stdout",
     "output_type": "stream",
     "text": [
      "(50000, 32, 32, 3)\n"
     ]
    }
   ],
   "source": [
    "(x_train, y_train), (x_test, y_test) = cifar10.load_data()\n",
    "\n",
    "print(x_train.shape) #(50000, 32, 32, 3)\n",
    "\n",
    "## Normalize Data\n",
    "def normalize(X_train,X_test):\n",
    "        mean = np.mean(X_train,axis=(0,1,2,3))\n",
    "        std = np.std(X_train, axis=(0, 1, 2, 3))\n",
    "        X_train = (X_train-mean)/(std+1e-7)\n",
    "        X_test = (X_test-mean)/(std+1e-7) \n",
    "        return X_train, X_test,mean,std\n",
    "    \n",
    "    \n",
    "## Normalize Training and Testset    \n",
    "x_train, x_test,mean_train,std_train = normalize(x_train, x_test) "
   ]
  },
  {
   "cell_type": "code",
   "execution_count": 3,
   "metadata": {},
   "outputs": [],
   "source": [
    "## OneHot Label 由(None, 1)-(None, 10)\n",
    "## ex. label=2,變成[0,0,1,0,0,0,0,0,0,0]\n",
    "one_hot = OneHotEncoder(categories='auto')\n",
    "y_train = one_hot.fit_transform(y_train).toarray()\n",
    "y_test = one_hot.transform(y_test).toarray()"
   ]
  },
  {
   "cell_type": "code",
   "execution_count": 5,
   "metadata": {},
   "outputs": [
    {
     "name": "stderr",
     "output_type": "stream",
     "text": [
      "C:\\Users\\IVAN\\AppData\\Local\\Continuum\\anaconda3\\envs\\tensorflow-gpu\\lib\\site-packages\\ipykernel_launcher.py:23: UserWarning: Update your `Dense` call to the Keras 2 API: `Dense(activation=\"softmax\", units=10)`\n"
     ]
    },
    {
     "name": "stdout",
     "output_type": "stream",
     "text": [
      "Epoch 1/100\n",
      "50000/50000 [==============================] - ETA: 0s - loss: 2.0452 - accuracy: 0.3389 ETA: 3s - los - 10s 207us/step - loss: 2.0344 - accuracy: 0.3417\n",
      "Epoch 2/100\n",
      "50000/50000 [==============================] - 9s 188us/step - loss: 1.3666 - accuracy: 0.5168\n",
      "Epoch 3/100\n",
      "50000/50000 [==============================] - 9s 188us/step - loss: 1.1527 - accuracy: 0.5938\n",
      "Epoch 4/100\n",
      "50000/50000 [==============================] - 9s 189us/step - loss: 1.0066 - accuracy: 0.6472\n",
      "Epoch 5/100\n",
      "50000/50000 [==============================] - 9s 188us/step - loss: 0.8850 - accuracy: 0.69078s - - ETA: 5s - loss: 0.8819 - accu\n",
      "Epoch 6/100\n",
      "50000/50000 [==============================] - 9s 188us/step - loss: 0.7930 - accuracy: 0.72488s - loss: 0.791 - ETA: 6s - loss: 0.7901 - accu - ETA: 5s - loss: 0 - ETA: 2s - loss: 0.7913 - accuracy - ETA: 2s - loss: 0.7916 -  - ETA: 0s - loss: 0.7928 - accuracy: \n",
      "Epoch 7/100\n",
      "50000/50000 [==============================] - 9s 189us/step - loss: 0.7186 - accuracy: 0.7506\n",
      "Epoch 8/100\n",
      "50000/50000 [==============================] - 10s 195us/step - loss: 0.6483 - accuracy: 0.7763s - loss: 0.6402 - accura - E\n",
      "Epoch 9/100\n",
      "50000/50000 [==============================] - ETA: 0s - loss: 0.5759 - accuracy: 0.80 - 10s 193us/step - loss: 0.5754 - accuracy: 0.8031\n",
      "Epoch 10/100\n",
      "50000/50000 [==============================] - 10s 197us/step - loss: 0.5155 - accuracy: 0.8258s - loss: 0.5139 - accuracy: 0.\n",
      "Epoch 11/100\n",
      "50000/50000 [==============================] - 10s 198us/step - loss: 0.4561 - accuracy: 0.8481\n",
      "Epoch 12/100\n",
      "50000/50000 [==============================] - 10s 197us/step - loss: 0.3968 - accuracy: 0.8715\n",
      "Epoch 13/100\n",
      "50000/50000 [==============================] - 10s 194us/step - loss: 0.3360 - accuracy: 0.8953s - loss: 0.3321 - accuracy: 0.89 - ETA: 0s - loss: 0.3327 - accura\n",
      "Epoch 14/100\n",
      "50000/50000 [==============================] - 9s 188us/step - loss: 0.2867 - accuracy: 0.9143\n",
      "Epoch 15/100\n",
      "50000/50000 [==============================] - 9s 189us/step - loss: 0.2478 - accuracy: 0.92812s - loss: 0.238 - ETA: 0s - loss: 0.2455 - accura\n",
      "Epoch 16/100\n",
      "50000/50000 [==============================] - 10s 195us/step - loss: 0.2040 - accuracy: 0.9436\n",
      "Epoch 17/100\n",
      "50000/50000 [==============================] - 10s 193us/step - loss: 0.1622 - accuracy: 0.9602s - loss: 0\n",
      "Epoch 18/100\n",
      "50000/50000 [==============================] - 10s 192us/step - loss: 0.1260 - accuracy: 0.9747s - - ETA: 0s - loss: 0.1255 - accuracy: 0.\n",
      "Epoch 19/100\n",
      "50000/50000 [==============================] - 9s 189us/step - loss: 0.1024 - accuracy: 0.9811\n",
      "Epoch 20/100\n",
      "50000/50000 [==============================] - 10s 192us/step - loss: 0.0768 - accuracy: 0.9896\n",
      "Epoch 21/100\n",
      "50000/50000 [==============================] - 10s 197us/step - loss: 0.0594 - accuracy: 0.9939\n",
      "Epoch 22/100\n",
      "50000/50000 [==============================] - ETA: 0s - loss: 0.0450 - accuracy: 0.99 - 10s 197us/step - loss: 0.0450 - accuracy: 0.9969\n",
      "Epoch 23/100\n",
      "50000/50000 [==============================] - ETA: 0s - loss: 0.0330 - accuracy: 0.9987 ETA: 8s - loss: 0.035 - ETA: 6s - los - 10s 191us/step - loss: 0.0330 - accuracy: 0.9987\n",
      "Epoch 24/100\n",
      "50000/50000 [==============================] - ETA: 0s - loss: 0.0249 - accuracy: 0.9996 ETA: 7s - los - 10s 192us/step - loss: 0.0250 - accuracy: 0.9996\n",
      "Epoch 25/100\n",
      "50000/50000 [==============================] - 9s 190us/step - loss: 0.0202 - accuracy: 0.9997\n",
      "Epoch 26/100\n",
      "50000/50000 [==============================] - 10s 194us/step - loss: 0.0165 - accuracy: 0.9998s - los - ETA: 3s -\n",
      "Epoch 27/100\n",
      "50000/50000 [==============================] - 10s 194us/step - loss: 0.0134 - accuracy: 0.9999\n",
      "Epoch 28/100\n",
      "50000/50000 [==============================] - 10s 191us/step - loss: 0.0114 - accuracy: 0.9999\n",
      "Epoch 29/100\n",
      "50000/50000 [==============================] - 10s 197us/step - loss: 0.0101 - accuracy: 1.0000s - loss: 0.0101 - ac\n",
      "Epoch 30/100\n",
      "50000/50000 [==============================] - 10s 196us/step - loss: 0.0089 - accuracy: 1.0000\n",
      "Epoch 31/100\n",
      "50000/50000 [==============================] - 10s 195us/step - loss: 0.0077 - accuracy: 1.0000s - loss: 0.007 - ETA: 5s - - ETA: 2s - loss: 0.0077 -  - ETA: 0s - loss: 0.0077 - accura\n",
      "Epoch 32/100\n",
      "50000/50000 [==============================] - 9s 188us/step - loss: 0.0069 - accuracy: 1.00007s - ETA: 4s - loss: 0.0069 - accuracy:  - ETA: 3s - loss: 0.006 - ETA: 1s - loss: 0.0069 \n",
      "Epoch 33/100\n",
      "50000/50000 [==============================] - 10s 190us/step - loss: 0.0063 - accuracy: 1.0000\n",
      "Epoch 34/100\n",
      "50000/50000 [==============================] - 9s 188us/step - loss: 0.0057 - accuracy: 1.0000\n",
      "Epoch 35/100\n",
      "50000/50000 [==============================] - 9s 190us/step - loss: 0.0052 - accuracy: 1.00008s - loss: 0.0049 - accu - ETA: 3s -\n",
      "Epoch 36/100\n",
      "50000/50000 [==============================] - ETA: 0s - loss: 0.0048 - accuracy: 1.0000 ETA: 5s - loss: 0.0048  - 10s 193us/step - loss: 0.0048 - accuracy: 1.0000\n",
      "Epoch 37/100\n",
      "50000/50000 [==============================] - 10s 193us/step - loss: 0.0043 - accuracy: 1.0000\n",
      "Epoch 38/100\n",
      "50000/50000 [==============================] - 9s 187us/step - loss: 0.0040 - accuracy: 1.0000\n",
      "Epoch 39/100\n",
      "50000/50000 [==============================] - 9s 187us/step - loss: 0.0037 - accuracy: 1.0000\n",
      "Epoch 40/100\n",
      "50000/50000 [==============================] - 9s 187us/step - loss: 0.0034 - accuracy: 1.00006s - los - ETA: 3s - loss: 0.003 - ETA: 2s - loss: 0.0\n",
      "Epoch 41/100\n",
      "50000/50000 [==============================] - 9s 187us/step - loss: 0.0031 - accuracy: 1.00004s - loss: 0.0031 - accuracy: 1. -\n",
      "Epoch 42/100\n",
      "50000/50000 [==============================] - 9s 187us/step - loss: 0.0029 - accuracy: 1.0000\n",
      "Epoch 43/100\n",
      "50000/50000 [==============================] - 9s 187us/step - loss: 0.0028 - accuracy: 1.00000s - loss: 0.0027 - accuracy\n",
      "Epoch 44/100\n",
      "50000/50000 [==============================] - 9s 187us/step - loss: 0.0026 - accuracy: 1.0000\n",
      "Epoch 45/100\n",
      "50000/50000 [==============================] - 9s 187us/step - loss: 0.0024 - accuracy: 1.00007s - loss: 0.0024 - accu - ETA: 6s - loss: 0.0024 - accu - E - ETA: 1s - loss: 0.0024 - ac\n",
      "Epoch 46/100\n",
      "50000/50000 [==============================] - 9s 187us/step - loss: 0.0022 - accuracy: 1.00000s - loss: 0.0022 - accuracy: \n",
      "Epoch 47/100\n",
      "50000/50000 [==============================] - 9s 187us/step - loss: 0.0021 - accuracy: 1.0000: 2s -\n",
      "Epoch 48/100\n",
      "50000/50000 [==============================] - 9s 187us/step - loss: 0.0020 - accuracy: 1.0000\n",
      "Epoch 49/100\n",
      "50000/50000 [==============================] - 9s 187us/step - loss: 0.0019 - accuracy: 1.0000\n",
      "Epoch 50/100\n",
      "50000/50000 [==============================] - 9s 187us/step - loss: 0.0018 - accuracy: 1.0000\n",
      "Epoch 51/100\n",
      "50000/50000 [==============================] - 9s 187us/step - loss: 0.0017 - accuracy: 1.00005s - loss: 0 - E\n",
      "Epoch 52/100\n",
      "50000/50000 [==============================] - 9s 187us/step - loss: 0.0016 - accuracy: 1.00007s\n",
      "Epoch 53/100\n",
      "50000/50000 [==============================] - 9s 187us/step - loss: 0.0015 - accuracy: 1.0000\n",
      "Epoch 54/100\n",
      "50000/50000 [==============================] - 9s 187us/step - loss: 0.0014 - accuracy: 1.0000\n",
      "Epoch 55/100\n",
      "50000/50000 [==============================] - 9s 187us/step - loss: 0.0014 - accuracy: 1.00000s - loss: 0.0014 - accuracy: 1.\n",
      "Epoch 56/100\n",
      "50000/50000 [==============================] - 9s 187us/step - loss: 0.0013 - accuracy: 1.00005s - loss: 0.0013 - \n",
      "Epoch 57/100\n",
      "50000/50000 [==============================] - 9s 187us/step - loss: 0.0012 - accuracy: 1.00002s - loss: 0.0012 - accuracy: 1.00 - ETA: 2s - loss: 0.0012 - accuracy: 1.00 - ETA: 2s - loss: 0.0012 - accuracy: 1.00 - ETA: 2s - loss: 0.0\n",
      "Epoch 58/100\n",
      "50000/50000 [==============================] - 9s 187us/step - loss: 0.0012 - accuracy: 1.00005s - loss: 0.001\n",
      "Epoch 59/100\n",
      "50000/50000 [==============================] - 9s 187us/step - loss: 0.0011 - accuracy: 1.0000: 8s - loss: 0.0011  - ETA:  - ETA: 3s - loss: - ETA: 1s - loss: 0.0011 - accu\n",
      "Epoch 60/100\n",
      "50000/50000 [==============================] - 9s 187us/step - loss: 0.0010 - accuracy: 1.00001s - loss: 0.001\n",
      "Epoch 61/100\n"
     ]
    },
    {
     "name": "stdout",
     "output_type": "stream",
     "text": [
      "50000/50000 [==============================] - 9s 187us/step - loss: 9.9893e-04 - accuracy: 1.00008s - l - ETA: 5s - loss: 9.5505e-04 - accu - ETA: 3s - loss: 9.5851e-04 - accuracy:  - ETA: 3s -\n",
      "Epoch 62/100\n",
      "50000/50000 [==============================] - 9s 187us/step - loss: 9.6117e-04 - accuracy: 1.0000\n",
      "Epoch 63/100\n",
      "50000/50000 [==============================] - 9s 187us/step - loss: 9.0436e-04 - accuracy: 1.00001s - loss: 8.7287e-04 - accu\n",
      "Epoch 64/100\n",
      "50000/50000 [==============================] - 9s 187us/step - loss: 8.7601e-04 - accuracy: 1.00006s - loss: 9.5109e-04 - accura - ETA: 5s - loss: 9.2 - ETA: 3s - loss: - ETA: 0s - loss: 8.7382e-04 - accuracy: \n",
      "Epoch 65/100\n",
      "50000/50000 [==============================] - 9s 187us/step - loss: 8.4781e-04 - accuracy: 1.00002s - loss: 8\n",
      "Epoch 66/100\n",
      "50000/50000 [==============================] - 9s 187us/step - loss: 8.0791e-04 - accuracy: 1.0000\n",
      "Epoch 67/100\n",
      "50000/50000 [==============================] - ETA: 0s - loss: 7.8612e-04 - accuracy: 1.00 - 9s 187us/step - loss: 7.8491e-04 - accuracy: 1.0000\n",
      "Epoch 68/100\n",
      "50000/50000 [==============================] - ETA: 0s - loss: 7.4806e-04 - accuracy: 1.0000 ETA: 1s - loss: 7.2415e-04 - accuracy:  - ETA: 0s - loss: 7.2248e-04 - accuracy: 1. - ETA: 0s - loss: 7.2484e-04 - accuracy:  - 9s 187us/step - loss: 7.4633e-04 - accuracy: 1.0000\n",
      "Epoch 69/100\n",
      "50000/50000 [==============================] - 9s 187us/step - loss: 7.1500e-04 - accuracy: 1.00001s - loss: 7.1200e-0\n",
      "Epoch 70/100\n",
      "50000/50000 [==============================] - 9s 187us/step - loss: 6.7612e-04 - accuracy: 1.00007s - loss: 6.2136e-04 - accu - ETA: 6s - loss: 6.3967e-04 - accu - ETA: 5s - loss: 6.4270e-04 - ac - ETA: 4s - loss: 6.4707e-0 - ETA: 2s - loss: 6.828\n",
      "Epoch 71/100\n",
      "50000/50000 [==============================] - 9s 187us/step - loss: 6.5809e-04 - accuracy: 1.00008s - - ETA: 5s - loss: 6 - ETA: 2s - loss: 6.7\n",
      "Epoch 72/100\n",
      "50000/50000 [==============================] - 9s 187us/step - loss: 6.1344e-04 - accuracy: 1.00005s - loss: 6.2982e - ETA: 2s - loss: 6.1943e-04 - ac - ETA: 1s - loss: 6.1657e-04 \n",
      "Epoch 73/100\n",
      "50000/50000 [==============================] - 9s 187us/step - loss: 5.9939e-04 - accuracy: 1.0000 ETA: 4s - loss: 5.6600e-04  - ETA: 2s - loss: 5.7225e-04 -  - ETA: 1s - loss: 5.7001e-04 - ac\n",
      "Epoch 74/100\n",
      "50000/50000 [==============================] - 9s 187us/step - loss: 5.8566e-04 - accuracy: 1.0000\n",
      "Epoch 75/100\n",
      "50000/50000 [==============================] - 9s 187us/step - loss: 5.9706e-04 - accuracy: 1.00001s - loss: 6.1132e-0\n",
      "Epoch 76/100\n",
      "50000/50000 [==============================] - 9s 187us/step - loss: 5.3344e-04 - accuracy: 1.0000\n",
      "Epoch 77/100\n",
      "50000/50000 [==============================] - 9s 187us/step - loss: 4.9296e-04 - accuracy: 1.00008s - loss: 4.8 - E - ETA: 1s - loss: 4.7301e-0\n",
      "Epoch 78/100\n",
      "50000/50000 [==============================] - 9s 188us/step - loss: 4.9956e-04 - accuracy: 1.0000\n",
      "Epoch 79/100\n",
      "50000/50000 [==============================] - 9s 187us/step - loss: 4.7312e-04 - accuracy: 1.00000s - loss: 4.7047e-04 - accura\n",
      "Epoch 80/100\n",
      "50000/50000 [==============================] - 9s 187us/step - loss: 4.7027e-04 - accuracy: 1.0000\n",
      "Epoch 81/100\n",
      "50000/50000 [==============================] - ETA: 0s - loss: 4.2504e-04 - accuracy: 1.0000 ETA: 5s - loss: 4.2507e - ETA: 3s - l - 9s 187us/step - loss: 4.2422e-04 - accuracy: 1.0000\n",
      "Epoch 82/100\n",
      "50000/50000 [==============================] - 9s 187us/step - loss: 4.0993e-04 - accuracy: 1.00005s - ETA: 1s - loss: 4.0958e-04 - \n",
      "Epoch 83/100\n",
      "50000/50000 [==============================] - 9s 187us/step - loss: 3.8650e-04 - accuracy: 1.0000\n",
      "Epoch 84/100\n",
      "50000/50000 [==============================] - 9s 187us/step - loss: 3.7161e-04 - accuracy: 1.00004s - loss: 3.7718e-04 - accuracy - ETA: \n",
      "Epoch 85/100\n",
      "50000/50000 [==============================] - ETA: 0s - loss: 3.6196e-04 - accuracy: 1.0000 E - 9s 187us/step - loss: 3.6241e-04 - accuracy: 1.0000\n",
      "Epoch 86/100\n",
      "50000/50000 [==============================] - 9s 187us/step - loss: 3.4312e-04 - accuracy: 1.00002s - loss: 3.3879e-04 -  - ETA: 0s - loss: 3.4212e-04 - accuracy\n",
      "Epoch 87/100\n",
      "50000/50000 [==============================] - ETA: 0s - loss: 3.3146e-04 - accuracy: 1.0000 ETA: 1s - loss: 3.3308e-04 - accu - ETA: 0s - loss: 3.3092e-04 - accuracy: 1. - 9s 187us/step - loss: 3.3285e-04 - accuracy: 1.0000\n",
      "Epoch 88/100\n",
      "50000/50000 [==============================] - 9s 187us/step - loss: 3.1592e-04 - accuracy: 1.0000\n",
      "Epoch 89/100\n",
      "50000/50000 [==============================] - ETA: 0s - loss: 3.0236e-04 - accuracy: 1.00 - 9s 187us/step - loss: 3.0349e-04 - accuracy: 1.0000\n",
      "Epoch 90/100\n",
      "50000/50000 [==============================] - 9s 187us/step - loss: 2.9733e-04 - accuracy: 1.00003s - loss: 2.9095e-04  - ETA: 2s - loss: 2.9717e-04 - accuracy - ETA: 1s - loss: 2.9749e-04 - accuracy: 1. - ETA: 0s - loss: 2.9718e-04 - accuracy: 1. - ETA: 0s - loss: 2.9812e-04 - accuracy: 1.00 - ETA: 0s - loss: 2.9759e-04 - accuracy: 1.\n",
      "Epoch 91/100\n",
      "50000/50000 [==============================] - 9s 187us/step - loss: 2.8219e-04 - accuracy: 1.00008s - loss: 2.8976e-04 -  - ETA: 7s - loss:\n",
      "Epoch 92/100\n",
      "50000/50000 [==============================] - 9s 187us/step - loss: 2.7252e-04 - accuracy: 1.0000\n",
      "Epoch 93/100\n",
      "50000/50000 [==============================] - ETA: 0s - loss: 2.6250e-04 - accuracy: 1.0000 ETA: 6s - loss: 2.6483e-04 - accuracy: 1. - ETA: 6s - loss: 2.6305e - 9s 187us/step - loss: 2.6347e-04 - accuracy: 1.0000\n",
      "Epoch 94/100\n",
      "50000/50000 [==============================] - 9s 187us/step - loss: 2.5414e-04 - accuracy: 1.00008s - loss: 2.483 - - ETA: 1s - loss: 2.5450e-0\n",
      "Epoch 95/100\n",
      "50000/50000 [==============================] - 9s 187us/step - loss: 2.4475e-04 - accuracy: 1.0000\n",
      "Epoch 96/100\n",
      "50000/50000 [==============================] - 9s 187us/step - loss: 2.3371e-04 - accuracy: 1.00002s - loss: 2.3374e-04 - accuracy: 1.00 - ETA: 2s - loss: 2.3431e\n",
      "Epoch 97/100\n",
      "50000/50000 [==============================] - 9s 187us/step - loss: 2.2680e-04 - accuracy: 1.00000s - loss: 2.2569e-04 - accuracy: 1.\n",
      "Epoch 98/100\n",
      "50000/50000 [==============================] - ETA: 0s - loss: 2.2061e-04 - accuracy: 1.0000 ETA: 2s - loss: 2.2 - 9s 187us/step - loss: 2.2061e-04 - accuracy: 1.0000\n",
      "Epoch 99/100\n",
      "50000/50000 [==============================] - 9s 187us/step - loss: 2.1202e-04 - accuracy: 1.00006s - loss: 2.0521e-04 - accuracy: 1. - ETA: 5s - loss: 2.0697e-04 - accuracy:  - ETA: 5s - loss: 2.0622e-04 - accu -\n",
      "Epoch 100/100\n",
      "50000/50000 [==============================] - 9s 187us/step - loss: 2.0641e-04 - accuracy: 1.0000\n"
     ]
    },
    {
     "data": {
      "text/plain": [
       "<keras.callbacks.callbacks.History at 0x1524b7467f0>"
      ]
     },
     "execution_count": 5,
     "metadata": {},
     "output_type": "execute_result"
    }
   ],
   "source": [
    "\n",
    "classifier=Sequential()\n",
    "\n",
    "#卷積組合\n",
    "classifier.add(Convolution2D(32, (3,3), input_shape=(32,32,3), activation='relu'))#32,3,3,input_shape=(32,32,3),activation='relu''\n",
    "classifier.add(BatchNormalization())\n",
    "\n",
    "'''自己決定MaxPooling2D放在哪裡'''\n",
    "#classifier.add(MaxPooling2D(pool_size=(2,2)))\n",
    "\n",
    "#卷積組合\n",
    "classifier.add(Convolution2D(64, (3,3)))\n",
    "classifier.add(BatchNormalization())\n",
    "classifier.add(MaxPooling2D(pool_size=(2,2)))\n",
    "\n",
    "#flatten\n",
    "classifier.add(Flatten())\n",
    "\n",
    "#FC\n",
    "classifier.add(Dense(units=100, activation='relu')) #output_dim=100,activation=relu\n",
    "\n",
    "#輸出\n",
    "classifier.add(Dense(output_dim=10,activation='softmax'))\n",
    "\n",
    "#超過兩個就要選categorical_crossentrophy\n",
    "classifier.compile(optimizer = 'adam', loss = 'categorical_crossentropy', metrics = ['accuracy'])\n",
    "classifier.fit(x_train,y_train,batch_size=1000,epochs=100)"
   ]
  },
  {
   "cell_type": "markdown",
   "metadata": {},
   "source": [
    "## 預測新圖片，輸入影像前處理要與訓練時相同\n",
    "#### ((X-mean)/(std+1e-7) ):這裡的mean跟std是訓練集的\n",
    "## 維度如下方示範"
   ]
  },
  {
   "cell_type": "code",
   "execution_count": 6,
   "metadata": {},
   "outputs": [
    {
     "data": {
      "text/plain": [
       "array([[1.5516397e-04, 4.8569721e-11, 1.1399228e-10, 9.9969435e-01,\n",
       "        1.5050500e-04, 9.8078441e-17, 1.7238414e-11, 2.4623294e-14,\n",
       "        4.0249459e-10, 7.6536150e-16]], dtype=float32)"
      ]
     },
     "execution_count": 6,
     "metadata": {},
     "output_type": "execute_result"
    }
   ],
   "source": [
    "input_example=(np.zeros(shape=(1,32,32,3))-mean_train)/(std_train+1e-7) \n",
    "classifier.predict(input_example)"
   ]
  },
  {
   "cell_type": "code",
   "execution_count": null,
   "metadata": {},
   "outputs": [],
   "source": []
  }
 ],
 "metadata": {
  "kernelspec": {
   "display_name": "Python (tensorflow-gpu)",
   "language": "python",
   "name": "tensorflow-gpu"
  },
  "language_info": {
   "codemirror_mode": {
    "name": "ipython",
    "version": 3
   },
   "file_extension": ".py",
   "mimetype": "text/x-python",
   "name": "python",
   "nbconvert_exporter": "python",
   "pygments_lexer": "ipython3",
   "version": "3.5.6"
  }
 },
 "nbformat": 4,
 "nbformat_minor": 2
}
